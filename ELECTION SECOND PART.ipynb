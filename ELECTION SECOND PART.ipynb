{
 "cells": [
  {
   "cell_type": "code",
   "execution_count": null,
   "id": "5430ffe7",
   "metadata": {},
   "outputs": [],
   "source": [
    "import os\n",
    "import json\n",
    "import time\n",
    "import boto3\n",
    "import pandas as pd\n",
    "import requests\n",
    "import concurrent.futures\n",
    "from concurrent.futures import ProcessPoolExecutor\n",
    "from bs4 import BeautifulSoup as bs\n",
    "from selenium import webdriver\n",
    "from selenium.webdriver.common.by import By\n",
    "from selenium.webdriver.support import expected_conditions as EC\n",
    "from selenium.webdriver.support.ui import WebDriverWait\n"
   ]
  },
  {
   "cell_type": "code",
   "execution_count": null,
   "id": "085c9321",
   "metadata": {},
   "outputs": [],
   "source": [
    "\n",
    "bucket_name = \"election-2023\"\n",
    "\n",
    "\n",
    "states = {'1': 'ABIA',\n",
    " '2': 'ADAMAWA',\n",
    " '3': 'AKWA IBOM',\n",
    " '4': 'ANAMBRA',\n",
    " '5': 'BAUCHI',\n",
    " '6': 'BAYELSA',\n",
    " '7': 'BENUE',\n",
    " '8': 'BORNO',\n",
    " '9': 'CROSS RIVER',\n",
    " '10': 'DELTA',\n",
    " '11': 'EBONYI',\n",
    " '12': 'EDO',\n",
    " '13': 'EKITI',\n",
    " '14': 'ENUGU',\n",
    " '15': 'FCT',\n",
    " '16': 'GOMBE',\n",
    " '17': 'IMO',\n",
    " '18': 'JIGAWA',\n",
    " '19': 'KADUNA',\n",
    " '20': 'KANO',\n",
    " '21': 'KATSINA',\n",
    " '22': 'KEBBI',\n",
    " '23': 'KOGI',\n",
    " '24': 'KWARA',\n",
    " '25': 'LAGOS',\n",
    " '26': 'NASARAWA',\n",
    " '27': 'NIGER',\n",
    " '28': 'OGUN',\n",
    " '29': 'ONDO',\n",
    " '30': 'OSUN',\n",
    " '31': 'OYO',\n",
    " '32': 'PLATEAU',\n",
    " '33': 'RIVERS',\n",
    " '34': 'SOKOTO',\n",
    " '35': 'TARABA',\n",
    " '36': 'YOBE',\n",
    " '37': 'ZAMFARA'}"
   ]
  },
  {
   "cell_type": "code",
   "execution_count": null,
   "id": "c5ffd617",
   "metadata": {},
   "outputs": [],
   "source": [
    "df = pd.read_csv('OG-PLAT.csv')\n",
    "failed = []\n",
    "s3 = boto3.client('s3')"
   ]
  },
  {
   "cell_type": "code",
   "execution_count": null,
   "id": "2e64b60f",
   "metadata": {},
   "outputs": [],
   "source": [
    "def file_src(html):\n",
    "    \"\"\"\n",
    "    Returns:\n",
    "    - the link to the # print(all_pus_code)\n",
    "    \n",
    "    \"\"\"\n",
    "    soup = bs(html, 'lxml')\n",
    "    urls = soup.iframe['src']\n",
    "    return urls\n"
   ]
  },
  {
   "cell_type": "code",
   "execution_count": null,
   "id": "a1bc2631",
   "metadata": {},
   "outputs": [],
   "source": [
    "\n",
    "def pus_code(link):\n",
    "\n",
    "    driver = webdriver.Chrome()\n",
    "    \n",
    "    driver.get(link)\n",
    "    wait = WebDriverWait(driver, 100)\n",
    "    \n",
    "    #gets the div element of each polling unit\n",
    "    element = wait.until(EC.text_to_be_present_in_element((By.TAG_NAME, \"body\"), \"PU Code\"))\n",
    "    html_ward = driver.find_element(By.XPATH, '/html/body/app-root/div/app-activated/div/div/div/div/app-election-lga/div/div/div/div/div[2]/div/div[2]/div[2]/div').get_attribute('innerHTML')\n",
    "    div = bs(html_ward, 'lxml').find('body')\n",
    "    pus = div.findAll(\"div\", recursive=False)\n",
    "    driver.close()\n",
    "    \n",
    "    return [i.text for i in pus]"
   ]
  },
  {
   "cell_type": "code",
   "execution_count": null,
   "id": "4891d463",
   "metadata": {},
   "outputs": [],
   "source": [
    "def save_file(idx,link,pu,state,lga,ward):\n",
    "    global failed\n",
    "    try:\n",
    "        pu = ' '.join(pu.split()[:-2]).split(':')[-1].replace('/', '-')\n",
    "        \n",
    "        driver = webdriver.Chrome()\n",
    "      \n",
    "        driver.get(link)\n",
    "        \n",
    "        wait = WebDriverWait(driver, 100)\n",
    "        element = wait.until(EC.text_to_be_present_in_element((By.TAG_NAME, \"body\"), \"PU Code\"))\n",
    "        try:\n",
    "            driver.find_element(By.XPATH,f'/html/body/app-root/div/app-activated/div/div/div/div/app-election-lga/div/div/div/div/div[2]/div/div[2]/div[2]/div/div[{idx+1}]/div/div[2]/button').click()\n",
    "        except:\n",
    "            time.sleep(25)\n",
    "            driver.find_element(By.XPATH,f'/html/body/app-root/div/app-activated/div/div/div/div/app-election-lga/div/div/div/div/div[2]/div/div[2]/div[2]/div/div[{idx+1}]/div/div[2]/button').click()\n",
    "        \n",
    "        wait = WebDriverWait(driver, 100)\n",
    "        element = wait.until(EC.text_to_be_present_in_element((By.TAG_NAME, \"body\"), \"Lg\"))\n",
    "        \n",
    "        urls = file_src(driver.page_source)\n",
    "     \n",
    "\n",
    "        storedAs = urls.rsplit('/')[-1]\n",
    "\n",
    "        ext = storedAs.rsplit('.')[-1]\n",
    "        filepath = f\"{state}/{lga}/{ward}/{pu}.{ext}\"\n",
    "        try:\n",
    "\n",
    "            s3.upload_file(storedAs, bucket_name, filepath)\n",
    "        except:\n",
    "            download_file(urls,storedAs)\n",
    "            time.sleep(5)\n",
    "            s3.upload_file(storedAs, bucket_name, filepath)\n",
    "       \n",
    "    except Exception as e:\n",
    "        failed.append([idx,link])\n"
   ]
  },
  {
   "cell_type": "code",
   "execution_count": null,
   "id": "4be8e4f3",
   "metadata": {},
   "outputs": [],
   "source": [
    "\n",
    "cur_dir = os.getcwd()"
   ]
  },
  {
   "cell_type": "code",
   "execution_count": null,
   "id": "0f4108a6",
   "metadata": {},
   "outputs": [],
   "source": [
    "def download_file(file_url,filename):\n",
    "    \n",
    "    response = requests.get(file_url)\n",
    "    \n",
    "    with open(filename, \"wb\")as f:\n",
    "        f.write(response.content)"
   ]
  },
  {
   "cell_type": "code",
   "execution_count": null,
   "id": "ff9bf6c5",
   "metadata": {},
   "outputs": [],
   "source": [
    "def main(cur_dir,i):\n",
    "    os.chdir(cur_dir)\n",
    "    state = states[i[0].split('=')[-1]]\n",
    "    lga = i[1].replace('/','-')\n",
    "    ward = i[2].replace('/','-')\n",
    "    link = i[3]\n",
    "    num = i[-1]\n",
    "    \n",
    "\n",
    "    _dir = os.path.join(cur_dir, state,lga,ward)\n",
    "    \n",
    "    if not os.path.exists(_dir):\n",
    "        os.makedirs(_dir)\n",
    "    os.chdir(_dir)\n",
    "    all_pus_code = pus_code(link)\n",
    "    \n",
    "    with concurrent.futures.ProcessPoolExecutor(max_workers=10) as executor:\n",
    "    \n",
    "        future_to_url = {executor.submit(save_file, number,link,all_pus_code[number],state,lga,ward): number for number in range(num)}\n",
    "        \n",
    "        for future in concurrent.futures.as_completed(future_to_url):\n",
    "            pass\n",
    "    "
   ]
  },
  {
   "cell_type": "code",
   "execution_count": null,
   "id": "356a75d4",
   "metadata": {},
   "outputs": [],
   "source": [
    "with concurrent.futures.ProcessPoolExecutor(max_workers=1) as executor:\n",
    "    \n",
    "        future_to_url = {executor.submit(main, cur_dir,i): i for i in df.values[::-1]}\n",
    "        \n",
    "        for future in concurrent.futures.as_completed(future_to_url):\n",
    "            pass\n",
    "    \n"
   ]
  },
  {
   "cell_type": "code",
   "execution_count": null,
   "id": "e4209578",
   "metadata": {},
   "outputs": [],
   "source": [
    "i"
   ]
  },
  {
   "cell_type": "code",
   "execution_count": null,
   "id": "e4ef8af0",
   "metadata": {},
   "outputs": [],
   "source": []
  }
 ],
 "metadata": {
  "kernelspec": {
   "display_name": "Python 3 (ipykernel)",
   "language": "python",
   "name": "python3"
  },
  "language_info": {
   "codemirror_mode": {
    "name": "ipython",
    "version": 3
   },
   "file_extension": ".py",
   "mimetype": "text/x-python",
   "name": "python",
   "nbconvert_exporter": "python",
   "pygments_lexer": "ipython3",
   "version": "3.8.10"
  }
 },
 "nbformat": 4,
 "nbformat_minor": 5
}
